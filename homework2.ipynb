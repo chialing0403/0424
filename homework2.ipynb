{
 "cells": [
  {
   "cell_type": "code",
   "execution_count": 3,
   "metadata": {},
   "outputs": [
    {
     "name": "stdout",
     "output_type": "stream",
     "text": [
      "LUCKY NUMBER(0-10):[input q to quit]2\n",
      "YOU FAIL!!\n",
      "LUCKY NUMBER(0-10):[input q to quit]4\n",
      "YOU FAIL!!\n",
      "LUCKY NUMBER(0-10):[input q to quit]6\n",
      "YOU FAIL!!\n",
      "LUCKY NUMBER(0-10):[input q to quit]8\n"
     ]
    }
   ],
   "source": [
    "while True: \n",
    "    lucky = input(\"LUCKY NUMBER(0-10):[input q to quit]\")\n",
    "    if lucky == \"8\" or lucky == \"q\":\n",
    "        break\n",
    "    print(\"YOU FAIL!!\")\n",
    "    "
   ]
  },
  {
   "cell_type": "code",
   "execution_count": 4,
   "metadata": {},
   "outputs": [
    {
     "name": "stdout",
     "output_type": "stream",
     "text": [
      "LUCKY NUMBER(0-10):[input q to quit]3\n",
      "YOU FAIL!!\n",
      "LUCKY NUMBER(0-10):[input q to quit]q\n"
     ]
    }
   ],
   "source": [
    "while True: \n",
    "    lucky = input(\"LUCKY NUMBER(0-10):[input q to quit]\")\n",
    "    if lucky == \"8\" or lucky == \"q\":\n",
    "        break\n",
    "    print(\"YOU FAIL!!\")"
   ]
  }
 ],
 "metadata": {
  "kernelspec": {
   "display_name": "Python 3",
   "language": "python",
   "name": "python3"
  },
  "language_info": {
   "codemirror_mode": {
    "name": "ipython",
    "version": 3
   },
   "file_extension": ".py",
   "mimetype": "text/x-python",
   "name": "python",
   "nbconvert_exporter": "python",
   "pygments_lexer": "ipython3",
   "version": "3.7.3"
  }
 },
 "nbformat": 4,
 "nbformat_minor": 2
}

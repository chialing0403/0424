{
 "cells": [
  {
   "cell_type": "code",
   "execution_count": 2,
   "metadata": {},
   "outputs": [
    {
     "name": "stdout",
     "output_type": "stream",
     "text": [
      "Grades(0-100):80\n",
      "EXCELLENT!!!\n"
     ]
    }
   ],
   "source": [
    "grades = eval(input(\"Grades(0-100):\")) \n",
    "if grades >= 0 and grades < 60:\n",
    "    print(\"FAIL!!\")\n",
    "elif grades >= 60 and grades < 80:\n",
    "    print(\"PASS!!\")\n",
    "elif grades >= 80 and grades <= 100:\n",
    "    print(\"EXCELLENT!!!\")"
   ]
  }
 ],
 "metadata": {
  "kernelspec": {
   "display_name": "Python 3",
   "language": "python",
   "name": "python3"
  },
  "language_info": {
   "codemirror_mode": {
    "name": "ipython",
    "version": 3
   },
   "file_extension": ".py",
   "mimetype": "text/x-python",
   "name": "python",
   "nbconvert_exporter": "python",
   "pygments_lexer": "ipython3",
   "version": "3.7.3"
  }
 },
 "nbformat": 4,
 "nbformat_minor": 2
}
